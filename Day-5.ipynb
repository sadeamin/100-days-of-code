{
 "cells": [
  {
   "cell_type": "markdown",
   "metadata": {},
   "source": [
    "# Day-5 loop and range"
   ]
  },
  {
   "cell_type": "code",
   "execution_count": 1,
   "metadata": {},
   "outputs": [
    {
     "name": "stdout",
     "output_type": "stream",
     "text": [
      "Apple\n",
      "ApplePie\n",
      "Peach\n",
      "PeachPie\n",
      "Pear\n",
      "PearPie\n"
     ]
    }
   ],
   "source": [
    "fruits = [\"Apple\", \"Peach\", \"Pear\"]\n",
    "for fruit in fruits:\n",
    "    print(fruit)\n",
    "    print(fruit + \"Pie\")"
   ]
  },
  {
   "cell_type": "markdown",
   "metadata": {},
   "source": [
    "## Day 5.1 Average Height Exercise"
   ]
  },
  {
   "cell_type": "code",
   "execution_count": 14,
   "metadata": {},
   "outputs": [
    {
     "name": "stdout",
     "output_type": "stream",
     "text": [
      "Input a list of student hieghts : \n",
      "180 124 165 173 189 169 146\n",
      "\n",
      "164\n"
     ]
    }
   ],
   "source": [
    "student_heights = input(\"Input a list of student hieghts : \\n\").split()\n",
    "for n in range(0, len(student_heights)):\n",
    "    student_heights[n] = int(student_heights[n])\n",
    "print()\n",
    "#______________________________________________________________________\n",
    "total_num = 0\n",
    "temp = 0\n",
    "\n",
    "for i in student_heights:\n",
    "    total_height += i\n",
    "    temp += 1\n",
    "\n",
    "print(round(total_height / temp))"
   ]
  },
  {
   "cell_type": "code",
   "execution_count": 41,
   "metadata": {},
   "outputs": [
    {
     "name": "stdout",
     "output_type": "stream",
     "text": [
      "Input a list of student score:\n",
      "7 87 878 78 787 878 78 78 77777444 44 4 4 44 \n",
      "[7, 87, 878, 78, 787, 878, 78, 78, 77777444, 44, 4, 4, 44]\n",
      "The highest score in the class is : 77777444\n"
     ]
    }
   ],
   "source": [
    "student_score = input(\"Input a list of student score:\\n\").split()\n",
    "for i in range(0, len(student_score)):\n",
    "    student_score[i] = int(student_score[i])\n",
    "print(student_score)\n",
    "\n",
    "# _______________________________________________________\n",
    "\n",
    "highest_score = 0\n",
    "for score in student_score:\n",
    "    if score > highest_score:\n",
    "        highest_score = score\n",
    "\n",
    "print(f\"The highest score in the class is : {highest_score}\")"
   ]
  },
  {
   "cell_type": "code",
   "execution_count": 42,
   "metadata": {},
   "outputs": [
    {
     "name": "stdout",
     "output_type": "stream",
     "text": [
      "1\n",
      "2\n",
      "3\n",
      "4\n",
      "5\n",
      "6\n",
      "7\n",
      "8\n",
      "9\n",
      "10\n"
     ]
    }
   ],
   "source": [
    "for i in range(1, 11):\n",
    "    print(i)"
   ]
  },
  {
   "cell_type": "code",
   "execution_count": 43,
   "metadata": {},
   "outputs": [
    {
     "name": "stdout",
     "output_type": "stream",
     "text": [
      "5050\n"
     ]
    }
   ],
   "source": [
    "total = 0\n",
    "for i in range(1, 101):\n",
    "    total += i\n",
    "print(total)"
   ]
  },
  {
   "cell_type": "markdown",
   "metadata": {},
   "source": [
    "## Day 5.3 Adding Evens Exercise"
   ]
  },
  {
   "cell_type": "code",
   "execution_count": 9,
   "metadata": {},
   "outputs": [
    {
     "name": "stdout",
     "output_type": "stream",
     "text": [
      "2550\n",
      "odd\n",
      "odd\n",
      "odd\n",
      "odd\n",
      "odd\n",
      "odd\n",
      "odd\n",
      "odd\n",
      "odd\n",
      "odd\n",
      "odd\n",
      "odd\n",
      "odd\n",
      "odd\n",
      "odd\n",
      "odd\n",
      "odd\n",
      "odd\n",
      "odd\n",
      "odd\n",
      "odd\n",
      "odd\n",
      "odd\n",
      "odd\n",
      "odd\n",
      "odd\n",
      "odd\n",
      "odd\n",
      "odd\n",
      "odd\n",
      "odd\n",
      "odd\n",
      "odd\n",
      "odd\n",
      "odd\n",
      "odd\n",
      "odd\n",
      "odd\n",
      "odd\n",
      "odd\n",
      "odd\n",
      "odd\n",
      "odd\n",
      "odd\n",
      "odd\n",
      "odd\n",
      "odd\n",
      "odd\n",
      "odd\n",
      "odd\n",
      "odd\n"
     ]
    }
   ],
   "source": [
    "sum_of_evens = 0\n",
    "for i in range(2, 101, 2):\n",
    "    sum_of_evens += i\n",
    "print(sum_of_evens)\n",
    "\n",
    "for i in range(0, 101):\n",
    "    if i % 2 == 0:\n",
    "        print(\"odd\")"
   ]
  },
  {
   "cell_type": "markdown",
   "metadata": {},
   "source": [
    "## Day 5.4 Fizz Buzz Exercise"
   ]
  },
  {
   "cell_type": "code",
   "execution_count": 19,
   "metadata": {},
   "outputs": [
    {
     "name": "stdout",
     "output_type": "stream",
     "text": [
      "1\n",
      "2\n",
      "Fizz\n",
      "4\n",
      "Buzz\n",
      "Fizz\n",
      "7\n",
      "8\n",
      "Fizz\n",
      "Buzz\n",
      "11\n",
      "Fizz\n",
      "13\n",
      "14\n",
      "Fizz Buzz\n",
      "16\n",
      "17\n",
      "Fizz\n",
      "19\n",
      "Buzz\n",
      "Fizz\n",
      "22\n",
      "23\n",
      "Fizz\n",
      "Buzz\n",
      "26\n",
      "Fizz\n",
      "28\n",
      "29\n",
      "Fizz Buzz\n",
      "31\n",
      "32\n",
      "Fizz\n",
      "34\n",
      "Buzz\n",
      "Fizz\n",
      "37\n",
      "38\n",
      "Fizz\n",
      "Buzz\n",
      "41\n",
      "Fizz\n",
      "43\n",
      "44\n",
      "Fizz Buzz\n",
      "46\n",
      "47\n",
      "Fizz\n",
      "49\n",
      "Buzz\n",
      "Fizz\n",
      "52\n",
      "53\n",
      "Fizz\n",
      "Buzz\n",
      "56\n",
      "Fizz\n",
      "58\n",
      "59\n",
      "Fizz Buzz\n",
      "61\n",
      "62\n",
      "Fizz\n",
      "64\n",
      "Buzz\n",
      "Fizz\n",
      "67\n",
      "68\n",
      "Fizz\n",
      "Buzz\n",
      "71\n",
      "Fizz\n",
      "73\n",
      "74\n",
      "Fizz Buzz\n",
      "76\n",
      "77\n",
      "Fizz\n",
      "79\n",
      "Buzz\n",
      "Fizz\n",
      "82\n",
      "83\n",
      "Fizz\n",
      "Buzz\n",
      "86\n",
      "Fizz\n",
      "88\n",
      "89\n",
      "Fizz Buzz\n",
      "91\n",
      "92\n",
      "Fizz\n",
      "94\n",
      "Buzz\n",
      "Fizz\n",
      "97\n",
      "98\n",
      "Fizz\n",
      "Buzz\n"
     ]
    }
   ],
   "source": [
    "for i in range(1, 101):\n",
    "    if i % 3 == 0 and i % 5 == 0:\n",
    "        print(\"Fizz Buzz\")\n",
    "    elif i % 3 == 0:\n",
    "        print(\"Fizz\")\n",
    "    elif i % 5 == 0:\n",
    "        print(\"Buzz\")\n",
    "    else:\n",
    "        print(i)"
   ]
  },
  {
   "cell_type": "code",
   "execution_count": 12,
   "metadata": {},
   "outputs": [
    {
     "data": {
      "text/plain": [
       "2"
      ]
     },
     "execution_count": 12,
     "metadata": {},
     "output_type": "execute_result"
    }
   ],
   "source": [
    "2%4"
   ]
  },
  {
   "cell_type": "markdown",
   "metadata": {},
   "source": [
    "# Day 5 project Password Geerator"
   ]
  },
  {
   "cell_type": "code",
   "execution_count": 25,
   "metadata": {},
   "outputs": [
    {
     "name": "stdout",
     "output_type": "stream",
     "text": [
      "Welcome to the Pypassword Generator!\n",
      "How many letters would you like in your password?\n",
      "5\n",
      "How many symbols would you like?\n",
      "5\n",
      "How many numbers would you like?\n",
      "5\n",
      "Your password is 964*2*&wtby*v(5\n"
     ]
    }
   ],
   "source": [
    "import random\n",
    "\n",
    "letters = [\n",
    "    \"a\", \"b\", \"c\", \"d\", \"e\", \"f\", \"g\", \"h\", \"i\", \"j\", \n",
    "    \"k\", \"l\", \"m\", \"n\", \"o\", \"p\", \"q\", \"r\", \"s\", \"t\", \n",
    "    \"u\", \"v\", \"w\", \"x\", \"y\", \"z\"\n",
    "]\n",
    "\n",
    "numbers = ['1', '2', '3', '4', '5', '6', '7', '8', '9', '10']\n",
    "\n",
    "symbols = [\"!\", \"#\", \"$\", \"%\", \"&\", \"*\", \"+\", \"(\", \")\"]\n",
    "\n",
    "print(\"Welcome to the Pypassword Generator!\")\n",
    "nr_letters = int(input(\"How many letters would you like in your password?\\n\"))\n",
    "\n",
    "nr_symbols = int(input(\"How many symbols would you like?\\n\"))\n",
    "\n",
    "nr_numbers = int(input(\"How many numbers would you like?\\n\"))\n",
    "\n",
    "password = []\n",
    "\n",
    "for i in range(0, nr_letters):\n",
    "    password += random.choice(letters)\n",
    "    \n",
    "for i in range(0, nr_numbers):\n",
    "    password += random.choice(numbers)\n",
    "    \n",
    "for i in range(0, nr_symbols):\n",
    "    password += random.choice(symbols)\n",
    "    \n",
    "random.shuffle(password)\n",
    "final_password = \"\"\n",
    "\n",
    "for i in password:\n",
    "    final_password += str(i)\n",
    "\n",
    "print(f\"Your password is {final_password}\")"
   ]
  },
  {
   "cell_type": "code",
   "execution_count": null,
   "metadata": {},
   "outputs": [],
   "source": [
    "print(\"djfja\")"
   ]
  },
  {
   "cell_type": "code",
   "execution_count": null,
   "metadata": {},
   "outputs": [],
   "source": []
  }
 ],
 "metadata": {
  "kernelspec": {
   "display_name": "Python 3",
   "language": "python",
   "name": "python3"
  },
  "language_info": {
   "codemirror_mode": {
    "name": "ipython",
    "version": 3
   },
   "file_extension": ".py",
   "mimetype": "text/x-python",
   "name": "python",
   "nbconvert_exporter": "python",
   "pygments_lexer": "ipython3",
   "version": "3.8.5"
  }
 },
 "nbformat": 4,
 "nbformat_minor": 4
}
