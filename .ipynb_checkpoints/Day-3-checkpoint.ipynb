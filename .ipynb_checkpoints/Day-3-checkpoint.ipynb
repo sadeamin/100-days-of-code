{
 "cells": [
  {
   "cell_type": "markdown",
   "metadata": {},
   "source": [
    " # conditional statment"
   ]
  },
  {
   "cell_type": "markdown",
   "metadata": {},
   "source": [
    "## Conparison Operators\n",
    "* `<`\n",
    "* `>`\n",
    "* `<=`\n",
    "* `>=`\n",
    "* `==`\n",
    "* `!=`\n",
    "* `%`"
   ]
  },
  {
   "cell_type": "code",
   "execution_count": 8,
   "metadata": {},
   "outputs": [
    {
     "name": "stdout",
     "output_type": "stream",
     "text": [
      "Welcome to the rollercoster!\n",
      "What is your height in cm: 120\n",
      "You can ride the rollercoaster!\n"
     ]
    }
   ],
   "source": [
    "print(\"Welcome to the rollercoster!\")\n",
    "height = int(input(\"What is your height in cm: \"))\n",
    "\n",
    "if height >= 120:\n",
    "    print(\"You can ride the rollercoaster!\")\n",
    "else: \n",
    "    print(\"Sorry, you have to grow taller before you can ride.\")"
   ]
  },
  {
   "cell_type": "markdown",
   "metadata": {},
   "source": [
    "### Day 3.1 Odd or Even Exercise "
   ]
  },
  {
   "cell_type": "code",
   "execution_count": 13,
   "metadata": {},
   "outputs": [
    {
     "name": "stdout",
     "output_type": "stream",
     "text": [
      "Wich number do you want to chack? 15\n",
      "This is an Odd number!\n"
     ]
    }
   ],
   "source": [
    "number = int(input(\"Wich number do you want to chack? \"))\n",
    "\n",
    "if number % 2 == 0:\n",
    "    print(\"This is an Even number!\")\n",
    "else:\n",
    "    print(\"This is an Odd number!\")"
   ]
  },
  {
   "cell_type": "code",
   "execution_count": 23,
   "metadata": {},
   "outputs": [
    {
     "name": "stdout",
     "output_type": "stream",
     "text": [
      "Welcome to the rollercoster!\n",
      "What is your height in cm: 120\n",
      "You can ride the rollercoaster!\n",
      "Whar is your age19\n",
      "Please pay $12\n"
     ]
    }
   ],
   "source": [
    "print(\"Welcome to the rollercoster!\")\n",
    "height = int(input(\"What is your height in cm: \"))\n",
    "\n",
    "if height >= 120:\n",
    "    print(\"You can ride the rollercoaster!\")\n",
    "    age = int(input(\"Whar is your age\"))\n",
    "    if age <=12:\n",
    "        print(\"Please pay $5\")\n",
    "    elif age >= 12 and age <= 18:\n",
    "        print(\"Please pay $7\")\n",
    "    else:\n",
    "        print(\"Please pay $12\")\n",
    "else: \n",
    "    print(\"Sorry, you have to grow taller before you can ride.\")"
   ]
  },
  {
   "cell_type": "code",
   "execution_count": 37,
   "metadata": {},
   "outputs": [
    {
     "name": "stdout",
     "output_type": "stream",
     "text": [
      "Enter your height in m: 1.5\n",
      "Enter your weight in kg: 44\n",
      "Your BMI is 20, you have a normal weight.\n"
     ]
    }
   ],
   "source": [
    "height = float(input(\"Enter your height in m: \"))\n",
    "weight = float(input(\"Enter your weight in kg: \"))\n",
    "\n",
    "bmi = round(weight / height ** 2)\n",
    "\n",
    "if bmi < 18.5:\n",
    "    print(f\"Your BMI is {bmi}, you are underweight.\")\n",
    "elif bmi < 25:\n",
    "    print(f\"Your BMI is {bmi}, you have a normal weight.\")\n",
    "elif bmi < 30:\n",
    "    print(f\"Your BMI is {bmi}, you are overweight\")\n",
    "elif bmi < 35:\n",
    "    print(f\"Your BMI is {bmi}, you are obese.\")\n",
    "else:\n",
    "    print(f\"Your BMI is {bmi}, you are clinically obese.\")\n",
    "    \n"
   ]
  },
  {
   "cell_type": "markdown",
   "metadata": {},
   "source": [
    "# Day 3.3 leap year Exercise"
   ]
  },
  {
   "cell_type": "code",
   "execution_count": 41,
   "metadata": {},
   "outputs": [
    {
     "name": "stdout",
     "output_type": "stream",
     "text": [
      "Which year do you want to check? 1998\n",
      "Not leap year\n"
     ]
    }
   ],
   "source": [
    "year = int(input(\"Which year do you want to check? \"))\n",
    "\n",
    "if year % 4 == 0:\n",
    "    if year % 100:\n",
    "        if year % 400 == 0:\n",
    "            print(\"leap year\")\n",
    "        else:\n",
    "            print(\"Not leap year\")\n",
    "    else:\n",
    "        print(\"leap year\")\n",
    "else:\n",
    "    print(\"Not leap year\")"
   ]
  },
  {
   "cell_type": "code",
   "execution_count": 6,
   "metadata": {},
   "outputs": [
    {
     "name": "stdout",
     "output_type": "stream",
     "text": [
      "Welcome to the rollercoster!\n",
      "What is your height in cm: 180\n",
      "You can ride the rollercoaster!\n",
      "Whar is your age21\n",
      "Adult tickets are $12\n",
      "Do you want a photo taken? y or Ny\n",
      "your final bill is 15\n"
     ]
    }
   ],
   "source": [
    "print(\"Welcome to the rollercoster!\")\n",
    "height = int(input(\"What is your height in cm: \"))\n",
    "bill = 0\n",
    "\n",
    "if height >= 120:\n",
    "    print(\"You can ride the rollercoaster!\")\n",
    "    age = int(input(\"Whar is your age\"))\n",
    "    if age <=12:\n",
    "        bill = 5\n",
    "        print(\"Child tickets are $5\")\n",
    "    elif age >= 12 and age <= 18:\n",
    "        bill = 7\n",
    "        print(\"Youth tickets are $7\")\n",
    "    else:\n",
    "        bill = 12\n",
    "        print(\"Adult tickets are $12\")\n",
    "    want_photo = input(\"Do you want a photo taken? y or N\").lower()\n",
    "    if want_photo == \"y\":\n",
    "        bill += 3\n",
    "        \n",
    "    print(f\"your final bill is ${bill}\")\n",
    "else: \n",
    "    print(\"Sorry, you have to grow taller before you can ride.\")\n",
    "    "
   ]
  },
  {
   "cell_type": "markdown",
   "metadata": {},
   "source": [
    "## pizza Order Exercise"
   ]
  },
  {
   "cell_type": "code",
   "execution_count": 5,
   "metadata": {},
   "outputs": [
    {
     "name": "stdout",
     "output_type": "stream",
     "text": [
      "Welcome to python pizza Deliveries!\n",
      "What size pizza do you want? S, M, or L :l\n",
      "Do you want pepperoni? Y or N :n\n",
      "Do you want extra cheese? Y or N :y\n",
      "Your total bill is 26\n"
     ]
    }
   ],
   "source": [
    "print(\"Welcome to python pizza Deliveries!\")\n",
    "size = input(\"What size pizza do you want? S, M, or L :\").lower()\n",
    "add_pepperoni = input(\"Do you want pepperoni? Y or N :\").lower()\n",
    "extra_cheese = input(\"Do you want extra cheese? Y or N :\").lower()\n",
    "\n",
    "bill = 0\n",
    "\n",
    "if size == \"s\":\n",
    "    bill = 15\n",
    "    if add_pepperoni == \"y\":\n",
    "        bill += 2\n",
    "    if extra_cheese == \"y\":\n",
    "        bill += 1\n",
    "elif size == \"m\":\n",
    "    bill = 20\n",
    "    if add_pepperoni == \"y\":\n",
    "        bill += 3\n",
    "    if extra_cheese == \"y\":\n",
    "        bill += 1\n",
    "else:\n",
    "    bill = 25\n",
    "    if add_pepperoni == \"y\":\n",
    "        bill += 3\n",
    "    if extra_cheese == \"y\":\n",
    "        bill += 1\n",
    "print(f\"Your total bill is ${bill}\")"
   ]
  },
  {
   "cell_type": "code",
   "execution_count": 21,
   "metadata": {},
   "outputs": [
    {
     "name": "stdout",
     "output_type": "stream",
     "text": [
      "Welcome to the rollercoster!\n",
      "What is your height in cm: 180\n",
      "You can ride the rollercoaster!\n",
      "Whar is your age :45\n",
      "Everything is going to be ok. Have a ride on us!\n",
      "Do you want a photo taken? y or Nn\n",
      "your final bill is $0\n"
     ]
    }
   ],
   "source": [
    "print(\"Welcome to the rollercoster!\")\n",
    "height = int(input(\"What is your height in cm: \"))\n",
    "bill = 0\n",
    "\n",
    "if height >= 120:\n",
    "    print(\"You can ride the rollercoaster!\")\n",
    "    age = int(input(\"Whar is your age :\"))\n",
    "    if age <=12:\n",
    "        bill = 5\n",
    "        print(\"Child tickets are $5\")\n",
    "    elif age >= 12 and age <= 18:\n",
    "        bill = 7\n",
    "        print(\"Youth tickets are $7\")\n",
    "    elif age >= 45 and age <= 55: \n",
    "        bill = 0\n",
    "        print(\"Everything is going to be ok. Have a ride on us!\")\n",
    "    else:\n",
    "        bill = 12\n",
    "        print(\"Adult tickets are $12\") \n",
    "    \n",
    "    want_photo = input(\"Do you want a photo taken? y or N\").lower()\n",
    "    if want_photo == \"y\":\n",
    "        bill += 3\n",
    "        \n",
    "    print(f\"your final bill is ${bill}\")\n",
    "else: \n",
    "    print(\"Sorry, you have to grow taller before you can ride.\")\n",
    "    "
   ]
  },
  {
   "cell_type": "markdown",
   "metadata": {},
   "source": [
    "# Day 3.5 love Calculator exercise"
   ]
  },
  {
   "cell_type": "code",
   "execution_count": 46,
   "metadata": {},
   "outputs": [
    {
     "name": "stdout",
     "output_type": "stream",
     "text": [
      "Welcome to the love Calculator!\n",
      "What is your name? \n",
      "kanye west\n",
      "What is their name? \n",
      "kim kardashian\n",
      "your score is 42 you are alright together.\n"
     ]
    }
   ],
   "source": [
    "print(\"Welcome to the love Calculator!\")\n",
    "name1 = input(\"What is your name? \\n\").lower()\n",
    "name2 = input(\"What is their name? \\n\").lower()\n",
    "\n",
    "name3 = name1 + name2\n",
    "\n",
    "t = name3.count(\"t\")\n",
    "r = name3.count(\"r\")\n",
    "u = name3.count(\"u\")\n",
    "e = name3.count(\"e\")\n",
    "\n",
    "true = t + r + u + e\n",
    "\n",
    "l = name3.count(\"l\")\n",
    "o = name3.count(\"o\")\n",
    "v = name3.count(\"v\")\n",
    "e = name3.count(\"e\")\n",
    "\n",
    "love = l + o + v + e\n",
    "\n",
    "score = int(f\"{true}{love}\")\n",
    "\n",
    "if (score < 10) or (score > 90):\n",
    "    print(f\"your score is {score}, you go together like coke and mentos.\")\n",
    "elif (score >= 40) and (score <= 50):\n",
    "    print(f\"your score is {score} you are alright together.\")\n",
    "else:\n",
    "    print(f\"your score is {score}.\")"
   ]
  },
  {
   "cell_type": "markdown",
   "metadata": {},
   "source": [
    "# Day 3 project Treasure Island"
   ]
  },
  {
   "cell_type": "code",
   "execution_count": 18,
   "metadata": {},
   "outputs": [
    {
     "name": "stdout",
     "output_type": "stream",
     "text": [
      "Welcome to Treasure island.\n",
      "Your mission is to find the trasure.\n",
      "You're at a cross road. Where do you want to go? 'left' or 'right'\n",
      "left\n",
      "You come to a lake. There is an isand in the middle of the lake. Type 'wait' to wait for a boat. type 'swim' to swim across.\n",
      "wait\n",
      "You arrive at the island unharmed. There is a house with 3 doors. one red, one yellow and one blue. Wich colour do you choose?\n",
      "yellow\n",
      "you found the treasure! you win!\n"
     ]
    }
   ],
   "source": [
    "print(\"Welcome to Treasure island.\\nYour mission is to find the trasure.\")\n",
    "q1 = input(\"You're at a cross road. Where do you want to go? 'left' or 'right'\\n\").lower()\n",
    "\n",
    "if q1 == \"left\":\n",
    "    q2 = input(\"You come to a lake. There is an isand in the middle of the lake. Type 'wait' to wait for a boat. type 'swim' to swim across.\\n\").lower()\n",
    "    if q2 == \"wait\":\n",
    "        q3 = input(\"You arrive at the island unharmed. There is a house with 3 doors. one red, one yellow and one blue. Wich colour do you choose?\\n\").lower()\n",
    "        if q3 == \"yellow\":\n",
    "            print(\"you found the treasure! you win!\")\n",
    "        elif q3 == \"red\":\n",
    "            print(\"It's a room fuul of fire. Game Over.\")\n",
    "            \n",
    "        else:\n",
    "            print(\"you enter a room of lione!, game over!\")\n",
    "    else:\n",
    "        print(\"you got attackd by an angry crocodile. game over\")\n",
    "else:\n",
    "    print(\"you fell into a hole. Game over!\")"
   ]
  },
  {
   "cell_type": "code",
   "execution_count": null,
   "metadata": {},
   "outputs": [],
   "source": []
  }
 ],
 "metadata": {
  "kernelspec": {
   "display_name": "Python 3",
   "language": "python",
   "name": "python3"
  },
  "language_info": {
   "codemirror_mode": {
    "name": "ipython",
    "version": 3
   },
   "file_extension": ".py",
   "mimetype": "text/x-python",
   "name": "python",
   "nbconvert_exporter": "python",
   "pygments_lexer": "ipython3",
   "version": "3.8.5"
  }
 },
 "nbformat": 4,
 "nbformat_minor": 4
}
